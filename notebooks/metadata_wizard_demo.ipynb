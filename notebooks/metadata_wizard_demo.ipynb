{
 "cells": [
  {
   "cell_type": "markdown",
   "metadata": {},
   "source": [
    "Copyright 2024 Google LLC\n",
    "\n",
    "Licensed under the Apache License, Version 2.0 (the \"License\");\n",
    "you may not use this file except in compliance with the License.\n",
    "You may obtain a copy of the License at\n",
    "\n",
    "    https://www.apache.org/licenses/LICENSE-2.0\n",
    "\n",
    "Unless required by applicable law or agreed to in writing, software\n",
    "distributed under the License is distributed on an \"AS IS\" BASIS,\n",
    "WITHOUT WARRANTIES OR CONDITIONS OF ANY KIND, either express or implied.\n",
    "See the License for the specific language governing permissions and\n",
    "limitations under the License."
   ]
  },
  {
   "cell_type": "markdown",
   "metadata": {},
   "source": [
    "# dataplex-utils\n",
    "## metadata\n",
    "### wizard"
   ]
  },
  {
   "cell_type": "markdown",
   "metadata": {},
   "source": [
    "Build the package launching `source build_install_package.sh` from Terminal"
   ]
  },
  {
   "cell_type": "code",
   "execution_count": 12,
   "metadata": {},
   "outputs": [],
   "source": [
    "#! pip install ../src/package/dist/dataplexutils_metadata_wizard-0.0.1-py3-none-any.whl --force-reinstall --quiet"
   ]
  },
  {
   "cell_type": "markdown",
   "metadata": {},
   "source": [
    "Restart notebook kernel"
   ]
  },
  {
   "cell_type": "code",
   "execution_count": 1,
   "metadata": {},
   "outputs": [
    {
     "data": {
      "text/plain": [
       "{'status': 'ok', 'restart': True}"
      ]
     },
     "execution_count": 1,
     "metadata": {},
     "output_type": "execute_result"
    },
    {
     "ename": "",
     "evalue": "",
     "output_type": "error",
     "traceback": [
      "\u001b[1;31mThe Kernel crashed while executing code in the current cell or a previous cell. \n",
      "\u001b[1;31mPlease review the code in the cell(s) to identify a possible cause of the failure. \n",
      "\u001b[1;31mClick <a href='https://aka.ms/vscodeJupyterKernelCrash'>here</a> for more info. \n",
      "\u001b[1;31mView Jupyter <a href='command:jupyter.viewOutput'>log</a> for further details."
     ]
    }
   ],
   "source": [
    "import IPython\n",
    "\n",
    "app = IPython.Application.instance()\n",
    "app.kernel.do_shutdown(True)\n",
    "\n"
   ]
  },
  {
   "cell_type": "code",
   "execution_count": 1,
   "metadata": {},
   "outputs": [],
   "source": [
    "\n",
    "import sys\n",
    "sys.path.append('/Users/jskuratowicz/Projects/Metadata Generation/src/package')\n",
    "\n",
    "from dataplexutils.metadata.wizard import Client, ClientOptions"
   ]
  },
  {
   "cell_type": "code",
   "execution_count": 2,
   "metadata": {},
   "outputs": [],
   "source": [
    "PROJECT_ID = \"jsk-dataplex-demo-380508\"\n",
    "DATASET_ID = \"metadata_generation\"\n",
    "TABLE_ID = \"ccagg\"\n",
    "LLM_LOCATION = \"us-central1\"\n",
    "DATAPLEX_LOCATION =  \"us-central1\"\n",
    "DOCUMENTATION_URI = \"us-central1\""
   ]
  },
  {
   "cell_type": "code",
   "execution_count": 3,
   "metadata": {},
   "outputs": [],
   "source": [
    "client_options = ClientOptions(\n",
    "    use_lineage_tables=True,\n",
    "    use_lineage_processes=True,\n",
    "    use_profile=True,\n",
    "    use_data_quality=False,\n",
    "    use_ext_documents=False,\n",
    "    )\n",
    "\n",
    "client = Client(\n",
    "    project_id=PROJECT_ID,\n",
    "    llm_location=LLM_LOCATION,\n",
    "    dataplex_location=DATAPLEX_LOCATION,\n",
    "    client_options=client_options,\n",
    ")"
   ]
  },
  {
   "cell_type": "code",
   "execution_count": 4,
   "metadata": {},
   "outputs": [],
   "source": [
    "table_fqn = f\"{PROJECT_ID}.{DATASET_ID}.{TABLE_ID}\""
   ]
  },
  {
   "cell_type": "code",
   "execution_count": 6,
   "metadata": {},
   "outputs": [
    {
     "name": "stderr",
     "output_type": "stream",
     "text": [
      "INFO:wizard_logger:Generating metadata for table jsk-dataplex-demo-380508.metadata_generation.ccagg.\n",
      "INFO:wizard_logger:Getting schema for table jsk-dataplex-demo-380508.metadata_generation.ccagg.\n",
      "INFO:wizard_logger:Getting sample for table jsk-dataplex-demo-380508.metadata_generation.ccagg.\n",
      "INFO:wizard_logger:Getting table quality for table jsk-dataplex-demo-380508.metadata_generation.ccagg.\n",
      "INFO:wizard_logger:No quality check found for table in datascansjsk-dataplex-demo-380508.metadata_generation.ccagg.\n",
      "INFO:wizard_logger:Getting table profile for table jsk-dataplex-demo-380508.metadata_generation.ccagg.\n",
      "INFO:wizard_logger:Getting table scan reference for table:jsk-dataplex-demo-380508.metadata_generation.ccagg.\n",
      "INFO:wizard_logger:Getting source tables for table jsk-dataplex-demo-380508.metadata_generation.ccagg.\n",
      "INFO:wizard_logger:_get_table_sources:Searching for lineage links for table jsk-dataplex-demo-380508.metadata_generation.ccagg. in dataset us\n",
      "INFO:wizard_logger:Getting jobs calculating for table jsk-dataplex-demo-380508.metadata_generation.ccagg.\n",
      "INFO:wizard_logger:Searching for lineage links for table jsk-dataplex-demo-380508.metadata_generation.ccagg.\n",
      "INFO:wizard_logger:Updating table jsk-dataplex-demo-380508.metadata_generation.ccagg with description: ===AI generated description===This table contains aggregated information about crime incidents reported in Chicago, derived from the Chicago Crime dataset. It provides insights into crime occurrences based on various temporal and spatial attributes, as well as incident characteristics. This information can be used for strategic crime prevention planning, research on crime patterns and trends, and law enforcement resource allocation.  The table includes counts of distinct crime incidents, allowing for analysis of crime frequency based on different groupings.\n",
      "\n",
      "This table is calculated by aggregating data from the `bigquery-public-data.chicago_crime.crime` table. The aggregation is performed by grouping the data based on month, day, hour of the incident date, primary crime type, arrest status, domestic status, beat, district, community area, FBI code, and year.  A count of distinct unique keys is calculated for each group, representing the number of distinct crime incidents within that specific combination of attributes.  No joins or filtering are explicitly mentioned in the provided lineage, suggesting that all records from the source table are used in the aggregation process. The most significant data transformation is the extraction of temporal components (month, day, hour) from the incident date and the grouping by these extracted components along with other categorical attributes.\n",
      "\n",
      "INFO:wizard_logger:Reading existing aspect 655216118709.global.overview of table jsk-dataplex-demo-380508.metadata_generation.ccagg\n",
      "INFO:wizard_logger:old_overview: TestTest\n",
      "INFO:root:if condidion for old_overview met\n",
      "INFO:root:aspect_content: {}\n",
      "ERROR:root:Exception: substring not found\n",
      "INFO:root:aspect_content: {'content': 'TestTest\\n===AI generated description===This table contains aggregated information about crime incidents reported in Chicago, derived from the Chicago Crime dataset. It provides insights into crime occurrences based on various temporal and spatial attributes, as well as incident characteristics. This information can be used for strategic crime prevention planning, research on crime patterns and trends, and law enforcement resource allocation.  The table includes counts of distinct crime incidents, allowing for analysis of crime frequency based on different groupings.\\n\\nThis table is calculated by aggregating data from the `bigquery-public-data.chicago_crime.crime` table. The aggregation is performed by grouping the data based on month, day, hour of the incident date, primary crime type, arrest status, domestic status, beat, district, community area, FBI code, and year.  A count of distinct unique keys is calculated for each group, representing the number of distinct crime incidents within that specific combination of attributes.  No joins or filtering are explicitly mentioned in the provided lineage, suggesting that all records from the source table are used in the aggregation process. The most significant data transformation is the extraction of temporal components (month, day, hour) from the incident date and the grouping by these extracted components along with other categorical attributes.\\n'}\n"
     ]
    },
    {
     "name": "stdout",
     "output_type": "stream",
     "text": [
      "project_id: jsk-dataplex-demo-380508, dataset_id: metadata_generation, table_id: ccagg\n"
     ]
    },
    {
     "name": "stderr",
     "output_type": "stream",
     "text": [
      "INFO:wizard_logger:Table description updated for table jsk-dataplex-demo-380508.metadata_generation.ccagg in Dataplex catalog\n"
     ]
    },
    {
     "name": "stdout",
     "output_type": "stream",
     "text": [
      "Aspect created: projects/jsk-dataplex-demo-380508/locations/us/entryGroups/@bigquery/entries/bigquery.googleapis.com/projects/jsk-dataplex-demo-380508/datasets/metadata_generation/tables/ccagg\n"
     ]
    },
    {
     "data": {
      "text/plain": [
       "'Table description generated successfully'"
      ]
     },
     "execution_count": 6,
     "metadata": {},
     "output_type": "execute_result"
    }
   ],
   "source": [
    "client.generate_table_description(table_fqn,'gs://wizard-documents/ChicagoChrimesTable.pdf')"
   ]
  },
  {
   "cell_type": "code",
   "execution_count": 7,
   "metadata": {},
   "outputs": [
    {
     "name": "stderr",
     "output_type": "stream",
     "text": [
      "INFO:wizard_logger:Generating metadata for columns in table jsk-dataplex-demo-380508.metadata_generation.ccagg.\n",
      "INFO:wizard_logger:No quality check found for table in datascansjsk-dataplex-demo-380508.metadata_generation.ccagg.\n",
      "INFO:wizard_logger:Getting table scan reference for table:jsk-dataplex-demo-380508.metadata_generation.ccagg.\n",
      "INFO:wizard_logger:_get_table_sources:Searching for lineage links for table jsk-dataplex-demo-380508.metadata_generation.ccagg. in dataset us\n",
      "INFO:wizard_logger:Searching for lineage links for table jsk-dataplex-demo-380508.metadata_generation.ccagg.\n",
      "INFO:wizard_logger:Generated column description: ===AI generated description===This column, 'cuk', represents a count of distinct unique keys, likely aggregated from a larger dataset.  Given the table name 'ccagg' suggesting aggregation and the lineage showing a count distinct operation, this column likely represents the number of unique crime incidents grouped by month, day, hour, primary type, arrest status, domestic status, beat, district, community area, FBI code, and year. The high prevalence of the value '1' suggests that the majority of these groupings correspond to a single unique crime incident.\n",
      "\n",
      "The 10 most frequent values are: '1', '2', '3', '4', '5', '6', '7', '8', '9', '10'.\n",
      "\n",
      "Type of column: INTEGER\n",
      "\n",
      "Categorical column or measure: Measure\n",
      "\n",
      "Is this column a primary key: No\n",
      "\n",
      "SQL formula to calculate the column: \n",
      "count(distinct unique_key)\n",
      "\n",
      "\n",
      "The table `jsk-dataplex-demo-380508.metadata_generation.ccagg` is derived from the `bigquery-public-data.chicago_crime.crime` dataset.  It aggregates data from the Chicago Crime dataset, summarizing the number of unique crime incidents based on various temporal and categorical attributes. The aggregation includes the month, day, and hour of the crime, the primary type of crime, whether an arrest was made, whether the incident was domestic-related, and geographical classifications like beat, district, community area, and FBI code.\n",
      "\n",
      "The transformation involves grouping the original crime data by the aforementioned attributes and then counting the distinct unique keys within each group. This results in a table where each row represents a specific combination of these attributes and the 'cuk' column indicates the number of unique crime incidents falling within that combination.  This aggregated table is likely used for analyzing crime trends and patterns across different time periods, crime types, and geographical areas.\n",
      ".\n",
      "INFO:wizard_logger:Generated column description: ===AI generated description===This column represents the month of the year when a crime incident occurred. It is derived from the 'date' column of the original Chicago Crime dataset.\n",
      "\n",
      "10 Most frequent values:\n",
      "'7', '8', '5', '6', '10', '9', '4', '3', '1', '11'\n",
      "\n",
      "Type of column:\n",
      "INTEGER\n",
      "\n",
      "Categorical column or measure:\n",
      "Categorical\n",
      "\n",
      "Is this column a primary key:\n",
      "No\n",
      "\n",
      "SQL formula to calculate the column:\n",
      "extract(month from date)\n",
      "\n",
      "\n",
      "The `ccagg` table is derived from the `bigquery-public-data.chicago_crime.crime` dataset.  This source table contains detailed information about reported crimes in Chicago, including date and time, location, type of crime, and whether an arrest was made.\n",
      "\n",
      "The `m` column specifically is created by extracting the month from the `date` column of the source table using the `extract` function. This operation groups crime incidents by month, allowing for analysis of crime trends over different months of the year.\n",
      ".\n",
      "INFO:wizard_logger:Generated column description: ===AI generated description===This column represents the day of the month when a crime occurred. It is derived from the 'date' column of the Chicago Crime dataset.\n",
      "\n",
      "10 Most frequent values:\n",
      "'1', '15', '10', '20', '6', '17', '16', '14', '11', '8'\n",
      "\n",
      "Type of column:\n",
      "INTEGER\n",
      "\n",
      "Categorical column or measure:\n",
      "Categorical\n",
      "\n",
      "Is this column a primary key:\n",
      "No\n",
      "\n",
      "SQL formula to calculate the column:\n",
      "extract(day from date)\n",
      "\n",
      "\n",
      "This table is derived from the `bigquery-public-data.chicago_crime.crime` table.  It aggregates crime data by month, day, hour, primary type, arrest status, domestic status, beat, district, community area, FBI code, and year.  The 'd' column specifically represents the day of the month a crime was reported.  This aggregation allows for analysis of crime trends and patterns based on various temporal and geographical factors.\n",
      "\n",
      "The SQL query used to create this table extracts the day of the month from the original 'date' timestamp field, counts distinct unique crime keys, and groups the data by the specified dimensions. This results in a summarized view of crime incidents, facilitating analysis of daily crime patterns and trends within different contexts.\n",
      ".\n",
      "INFO:wizard_logger:Generated column description: ===AI generated description===This column represents the hour of the day when a crime incident occurred. It ranges from 1 to 12, likely representing a 12-hour clock format.  This information can be useful for analyzing crime trends and patterns at different times of the day.\n",
      "\n",
      "10 Most frequent values:\n",
      "'12'; '9'; '10'; '8'; '11'; '7'; '1'; '2'; '3'; '6'\n",
      "\n",
      "Type of column:\n",
      "INTEGER\n",
      "\n",
      "Categorical column or measure:\n",
      "Categorical\n",
      "\n",
      "Is this column a primary key:\n",
      "No\n",
      "\n",
      "SQL formula to calculate the column:\n",
      "extract(hour from date)\n",
      "\n",
      "\n",
      "The table `jsk-dataplex-demo-380508.metadata_generation.ccagg` is derived from the `bigquery-public-data.chicago_crime.crime` table.  It aggregates crime incidents by month, day, hour, primary type, arrest status, domestic status, beat, district, community area, FBI code, and year.  The resulting table provides a summarized view of crime statistics based on these groupings.\n",
      "\n",
      "The aggregation involves counting distinct unique keys for each combination of the grouping variables.  This allows for analysis of crime trends across different time periods, crime types, and geographical areas. The extract function is used to extract the month, day, and hour from the original date field.\n",
      ".\n",
      "INFO:wizard_logger:Generated column description: ===AI generated description===This column stores the primary type of crime committed. It categorizes each crime incident into a broad category, such as THEFT, BATTERY, or CRIMINAL DAMAGE. This information is crucial for understanding the general nature of crimes reported in Chicago.\n",
      "\n",
      "10 Most frequent values:\n",
      "'THEFT', 'BATTERY', 'CRIMINAL DAMAGE', 'NARCOTICS', 'ASSAULT', 'OTHER OFFENSE', 'BURGLARY', 'MOTOR VEHICLE THEFT', 'DECEPTIVE PRACTICE', 'ROBBERY'\n",
      "Type of column: STRING\n",
      "Categorical column or measure: Categorical\n",
      "Is this column a primary key: No\n",
      "SQL formula to calculate the column: primary_type\n",
      "\n",
      "\n",
      "The table `jsk-dataplex-demo-380508.metadata_generation.ccagg` is derived from the `bigquery-public-data.chicago_crime.crime` table.  It aggregates data from the Chicago Crime dataset, summarizing crime incidents by various attributes including month, day, hour, primary crime type, arrest status, domestic status, beat, district, community area, FBI code, and year.  The resulting table provides a count of distinct unique keys for each combination of these attributes.\n",
      "\n",
      "The aggregation is performed using a SQL query that groups the data from the `bigquery-public-data.chicago_crime.crime` table by the specified attributes and calculates the count of distinct unique keys for each group.  The extracted month, day, and hour from the original date field are used for grouping, along with other categorical fields like primary type, arrest status, and domestic status.  The resulting aggregated data is then stored in the `jsk-dataplex-demo-380508.metadata_generation.ccagg` table.\n",
      ".\n",
      "INFO:wizard_logger:Generated column description: ===AI generated description===This column indicates whether an arrest was made in connection with the crime incident.\n",
      "\n",
      "10 Most frequent values:\n",
      "'false'; 'true'\n",
      "\n",
      "Type of column:\n",
      "BOOLEAN\n",
      "\n",
      "Categorical column or measure:\n",
      "Categorical\n",
      "\n",
      "Is this column a primary key:\n",
      "No\n",
      "\n",
      "\n",
      "This table is derived from the `bigquery-public-data.chicago_crime.crime` table.  It aggregates crime data by month, day, hour, primary type, arrest status, domestic status, beat, district, community area, FBI code, and year.  The resulting table provides a count of distinct unique keys for each combination of these attributes.\n",
      "\n",
      "The table `metadata_generation.ccagg` is created using a SQL query that aggregates data from the `bigquery-public-data.chicago_crime.crime` table. The query groups the data by various attributes including month, day, hour, primary type, arrest status, domestic status, and geographical information like beat, district, community area, and FBI code, along with the year.  For each group, it calculates the count of distinct unique keys, providing a summary of crime incidents based on these criteria. The 'ar' column specifically represents the 'arrest' field from the source table, indicating whether an arrest was made for each incident.\n",
      ".\n",
      "INFO:wizard_logger:Generated column description: ===AI generated description===This column indicates whether the crime was domestic-related.\n",
      "\n",
      "10 Most frequent values:\n",
      "'false'; 'true'\n",
      "\n",
      "Type of column:\n",
      "BOOLEAN\n",
      "\n",
      "Categorical column or measure:\n",
      "Categorical\n",
      "\n",
      "Is this column a primary key:\n",
      "No\n",
      "\n",
      "SQL formula to calculate the column:\n",
      "domestic\n",
      "\n",
      "\n",
      "The table `jsk-dataplex-demo-380508.metadata_generation.ccagg` is derived from the `bigquery-public-data.chicago_crime.crime` table.  This source table contains detailed information about crimes reported in Chicago, including the type of crime, location, time of occurrence, and whether an arrest was made.  The `ccagg` table aggregates data from the `crime` table, focusing on counts of distinct crimes based on various temporal and categorical attributes.\n",
      "\n",
      "The `ccagg` table is created by aggregating data from the `bigquery-public-data.chicago_crime.crime` table. The query groups the data by month, day, hour, primary crime type, arrest status, domestic status, beat, district, community area, FBI code, and year.  For each group, the query calculates the count of distinct unique keys, representing the number of unique crime incidents. This aggregated data is then stored in the `ccagg` table.\n",
      ".\n",
      "INFO:wizard_logger:Generated column description: ===AI generated description===This column represents the police beat where the crime occurred. A police beat is the smallest geographical area patrolled by a police unit.\n",
      "\n",
      "10 Most frequent values:\n",
      "'421'; '423'; '624'; '511'; '1834'; '823'; '1533'; '1112'; '414'; '1522'\n",
      "\n",
      "Type of column:\n",
      "INTEGER\n",
      "\n",
      "Categorical column or measure:\n",
      "Categorical\n",
      "\n",
      "Is this column a primary key:\n",
      "No\n",
      "\n",
      "SQL formula to calculate the column:\n",
      "beat\n",
      "\n",
      "\n",
      "This table is derived from the `bigquery-public-data.chicago_crime.crime` table.  It aggregates crime data by month, day, hour, primary crime type, arrest status, domestic status, police beat, district, community area, FBI code, and year.  The count of distinct unique keys is calculated for each group.  This aggregated data provides a summarized view of crime incidents in Chicago, allowing for analysis of trends and patterns based on various factors.\n",
      ".\n",
      "INFO:wizard_logger:Generated column description: ===AI generated description===This column represents the police district where the crime occurred.  Chicago is divided into 22 police districts, each responsible for a specific geographic area.  This information is crucial for analyzing crime patterns within different jurisdictions and allocating law enforcement resources effectively.\n",
      "\n",
      "10 Most frequent values: \n",
      "'8'; '11'; '6'; '7'; '4'; '25'; '3'; '12'; '9'; '2'\n",
      "\n",
      "Type of column\n",
      "INTEGER\n",
      "\n",
      "Categorical column or measure\n",
      "Categorical\n",
      "\n",
      "Is this column a primary key\n",
      "No\n",
      "\n",
      "SQL formula to calculate the column\n",
      "`district`\n",
      "\n",
      "This table is derived from the `bigquery-public-data.chicago_crime.crime` table.  It aggregates crime data by month, day, hour, primary crime type, arrest status, domestic status, beat, district, community area, FBI code, and year.  The resulting table provides a summarized view of crime incidents, allowing for analysis of trends and patterns across different time periods, crime types, and geographical areas.  The distinct count of unique keys (`cuk`) indicates the number of unique crime incidents within each aggregated group.  The other columns represent the respective time and categorical attributes used for grouping the data.\n",
      ".\n",
      "INFO:wizard_logger:Generated column description: ===AI generated description===This column likely represents the community area where the crime occurred.  Chicago is divided into 77 community areas, each with its own distinct characteristics. This information can be valuable for analyzing crime trends and patterns within specific geographic regions.\n",
      "\n",
      "10 Most frequent values: \n",
      "'25'; '8'; '43'; '28'; '23'; '24'; '71'; '29'; '67'; '49'\n",
      "\n",
      "Type of column:\n",
      "INTEGER\n",
      "\n",
      "Categorical column or measure:\n",
      "Categorical\n",
      "\n",
      "Is this column a primary key:\n",
      "No\n",
      "\n",
      "SQL formula to calculate the column:\n",
      "`community_area`\n",
      "\n",
      "\n",
      "This table is derived from the `bigquery-public-data.chicago_crime.crime` table.  It aggregates crime records by month, day, hour, primary type, arrest status, domestic status, beat, district, community area, FBI code, and year.  The resulting table provides a summarized view of crime incidents, allowing for analysis of trends and patterns across different time periods, crime types, and geographic locations.  The `count(distinct unique_key)` column calculates the number of distinct crime incidents within each aggregated group.\n",
      "\n",
      "The SQL query used to create this table groups data from the `bigquery-public-data.chicago_crime.crime` table by various attributes related to the time of the incident, the nature of the crime, and its location.  It then calculates the count of distinct unique keys within each group, providing a summary of crime incidents based on these groupings.  This aggregated data is stored in the `metadata_generation.ccagg` table, which can be used for further analysis and reporting.\n",
      ".\n",
      "INFO:wizard_logger:Generated column description: ===AI generated description===This column represents the FBI code associated with the crime incident.  FBI codes are used to categorize different types of offenses, providing a standardized way to classify and analyze crime data.\n",
      "\n",
      "10 Most frequent values:\n",
      "'06'; '08B'; '14'; '26'; '18'; '05'; '08A'; '07'; '11'; '03'\n",
      "\n",
      "Type of column:\n",
      "STRING\n",
      "\n",
      "Categorical column or measure:\n",
      "Categorical\n",
      "\n",
      "Is this column a primary key:\n",
      "No\n",
      "\n",
      "SQL formula to calculate the column:\n",
      "fbi_code\n",
      "\n",
      "\n",
      "The `ccagg` table is derived from the `bigquery-public-data.chicago_crime.crime` table.  It aggregates crime incidents by various attributes including month, day, hour, primary type, arrest status, domestic status, beat, district, community area, FBI code, and year.  The resulting table provides a summarized view of crime data, allowing for analysis of trends and patterns across different time periods, crime types, and geographical areas.  The `fc` column specifically represents the FBI code, which categorizes the type of crime committed.  This information is directly taken from the `fbi_code` column of the source table.\n",
      ".\n",
      "INFO:wizard_logger:Generated column description: ===AI generated description===This column represents the year the crime incident occurred. It is derived from the original crime dataset and is used for temporal analysis and aggregation of crime data.\n",
      "\n",
      "10 Most frequent values:\n",
      "'2002'; '2001'; '2003'; '2004'; '2005'; '2006'; '2007'; '2008'; '2009'; '2010'\n",
      "\n",
      "Type of column:\n",
      "INTEGER\n",
      "\n",
      "Categorical column or measure:\n",
      "Categorical\n",
      "\n",
      "Is this column a primary key:\n",
      "No\n",
      "\n",
      "SQL formula to calculate the column:\n",
      "`year`\n",
      "\n",
      "\n",
      "The `yr` column is derived from the `year` column of the `bigquery-public-data.chicago_crime.crime` table.  The data is aggregated by month, day, hour, primary type, arrest status, domestic status, beat, district, community area, FBI code, and year.  The `yr` column represents the year of the crime incident.\n",
      ".\n"
     ]
    }
   ],
   "source": [
    "client.generate_columns_descriptions(table_fqn,'gs://wizard-documents/ChicagoChrimesTable.pdf')"
   ]
  },
  {
   "cell_type": "code",
   "execution_count": 7,
   "metadata": {},
   "outputs": [],
   "source": [
    "#client.generate_dataset_tables_descriptions( f\"{PROJECT_ID}.{DATASET_ID}\", strategy=\"NAIVE\", documentation_csv_uri=None)"
   ]
  },
  {
   "cell_type": "code",
   "execution_count": 8,
   "metadata": {},
   "outputs": [],
   "source": [
    "#client._update_table_bq_description(table_fqn, \"===AI generated description===\\nThis is a kuba description\")"
   ]
  },
  {
   "cell_type": "code",
   "execution_count": 14,
   "metadata": {},
   "outputs": [
    {
     "name": "stderr",
     "output_type": "stream",
     "text": [
      "INFO:wizard_logger:Generating metadata for table jsk-dataplex-demo-380508.metadata_generation.test3.\n",
      "INFO:wizard_logger:Getting schema for table jsk-dataplex-demo-380508.metadata_generation.test3.\n",
      "INFO:wizard_logger:Getting sample for table jsk-dataplex-demo-380508.metadata_generation.test3.\n",
      "INFO:wizard_logger:Getting table quality for table jsk-dataplex-demo-380508.metadata_generation.test3.\n",
      "INFO:wizard_logger:No quality check found for table in datascansjsk-dataplex-demo-380508.metadata_generation.test3.\n",
      "INFO:wizard_logger:Getting table profile for table jsk-dataplex-demo-380508.metadata_generation.test3.\n",
      "INFO:wizard_logger:Getting table scan reference for table:jsk-dataplex-demo-380508.metadata_generation.test3.\n",
      "INFO:wizard_logger:No profile found for table in datascansjsk-dataplex-demo-380508.metadata_generation.test3.\n",
      "INFO:wizard_logger:Getting source tables for table jsk-dataplex-demo-380508.metadata_generation.test3.\n",
      "INFO:wizard_logger:_get_table_sources:Searching for lineage links for table jsk-dataplex-demo-380508.metadata_generation.test3. in dataset us\n",
      "INFO:wizard_logger:Getting jobs calculating for table jsk-dataplex-demo-380508.metadata_generation.test3.\n",
      "INFO:wizard_logger:Searching for lineage links for table jsk-dataplex-demo-380508.metadata_generation.test3.\n",
      "INFO:wizard_logger:Updating table jsk-dataplex-demo-380508.metadata_generation.test3 with description: ===AI generated description===This table contains a subset of unique identifiers from the Chicago crime dataset.  It focuses solely on the 'uk' column, which represents the unique key for each crime incident. This table serves as a simplified representation of the larger crime dataset, potentially used for testing, analysis, or as a key reference for joining with other related datasets.  It only includes 1000 records, limiting its scope compared to the full dataset.\n",
      "\n",
      "This table is derived from the 'jsk-dataplex-demo-380508.metadata_generation.cc' table by selecting only the 'uk' column and limiting the result set to 1000 rows.  The query used to create this table is a simple selection and does not involve any aggregation, joins, or filtering based on specific criteria. The primary purpose of this query is to create a smaller, more manageable table containing only the unique identifiers from the source table. The granularity of this table is the same as the source table at the individual crime incident level, but with a reduced number of records.\n",
      "\n"
     ]
    },
    {
     "name": "stdout",
     "output_type": "stream",
     "text": [
      "project_id: jsk-dataplex-demo-380508, dataset_id: metadata_generation, table_id: test3\n"
     ]
    },
    {
     "name": "stderr",
     "output_type": "stream",
     "text": [
      "INFO:wizard_logger:Table description updated for table jsk-dataplex-demo-380508.metadata_generation.test3 in Dataplex catalog\n"
     ]
    },
    {
     "name": "stdout",
     "output_type": "stream",
     "text": [
      "Aspect created: projects/jsk-dataplex-demo-380508/locations/us/entryGroups/@bigquery/entries/bigquery.googleapis.com/projects/jsk-dataplex-demo-380508/datasets/metadata_generation/tables/test3\n"
     ]
    },
    {
     "data": {
      "text/plain": [
       "'Table description generated successfully'"
      ]
     },
     "execution_count": 14,
     "metadata": {},
     "output_type": "execute_result"
    }
   ],
   "source": [
    "#client.generate_table_description('jsk-dataplex-demo-380508.metadata_generation.test3')"
   ]
  },
  {
   "cell_type": "code",
   "execution_count": 11,
   "metadata": {},
   "outputs": [
    {
     "name": "stderr",
     "output_type": "stream",
     "text": [
      "INFO:wizard_logger:Generating metadata for columns in table jsk-dataplex-demo-380508.metadata_generation.test3.\n"
     ]
    },
    {
     "name": "stderr",
     "output_type": "stream",
     "text": [
      "INFO:wizard_logger:No quality check found for table in datascansjsk-dataplex-demo-380508.metadata_generation.test3.\n",
      "INFO:wizard_logger:Getting table scan reference for table:jsk-dataplex-demo-380508.metadata_generation.test3.\n",
      "INFO:wizard_logger:No profile found for table in datascansjsk-dataplex-demo-380508.metadata_generation.test3.\n",
      "INFO:wizard_logger:_get_table_sources:Searching for lineage links for table jsk-dataplex-demo-380508.metadata_generation.test3. in dataset us\n",
      "INFO:wizard_logger:Searching for lineage links for table jsk-dataplex-demo-380508.metadata_generation.test3.\n",
      "INFO:wizard_logger:No profile found for column uk.\n",
      "INFO:wizard_logger:Generated column description: ===AI generated description===This column likely represents a unique identifier for each record, potentially the 'unique_key' from the Chicago crime dataset.  Given its integer type, it serves as a primary key for the table. The consistency rule 'test-rule' suggests that most values in this column are less than 10,000,000.\n",
      "\n",
      "10 Most frequent values:\n",
      "'13340474'; '13356600'; '13356070'; '13354224'; '13354056'; '13354012'; '13353851'; '13352753'; '13352385'; '13351251'\n",
      "Type of column:\n",
      "INTEGER\n",
      "Categorical column or measure:\n",
      "Categorical\n",
      "Is this column a primary key:\n",
      "Yes\n",
      "SQL formula to calculate the column:\n",
      "SELECT unique_key FROM bigquery-public-data.chicago_crime.crime\n",
      "\n",
      "Lineage information:\n",
      "The table jsk-dataplex-demo-380508.metadata_generation.test3 is derived from the table jsk-dataplex-demo-380508.metadata_generation.cc. The transformation involves selecting only the uk column and limiting the result to 1000 rows.  The source table, cc, contains detailed information about reported criminal incidents in Chicago, mirroring the structure of the bigquery-public-data.chicago_crime.crime dataset.\n",
      "\n",
      "The query used to create this table directly selects the 'uk' column (likely representing a unique key) from the source table 'jsk-dataplex-demo-380508.metadata_generation.cc'. This suggests a simplified version of the source table, focusing solely on the unique identifiers of a subset of crime records.  The 'LIMIT 1000' clause restricts the number of rows to the first 1000, indicating a sample or a smaller subset of the original data is being used.\n",
      ".\n"
     ]
    }
   ],
   "source": [
    "client.generate_columns_descriptions('jsk-dataplex-demo-380508.metadata_generation.test3')"
   ]
  },
  {
   "cell_type": "code",
   "execution_count": null,
   "metadata": {},
   "outputs": [],
   "source": []
  }
 ],
 "metadata": {
  "kernelspec": {
   "display_name": ".venv",
   "language": "python",
   "name": "python3"
  },
  "language_info": {
   "codemirror_mode": {
    "name": "ipython",
    "version": 3
   },
   "file_extension": ".py",
   "mimetype": "text/x-python",
   "name": "python",
   "nbconvert_exporter": "python",
   "pygments_lexer": "ipython3",
   "version": "3.11.6"
  }
 },
 "nbformat": 4,
 "nbformat_minor": 2
}
